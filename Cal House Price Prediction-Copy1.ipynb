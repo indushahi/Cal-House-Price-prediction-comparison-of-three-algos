{
 "cells": [
  {
   "cell_type": "markdown",
   "metadata": {},
   "source": [
    "# Project :California House Price Prediction\n",
    "#We predict house price using regression algorithms"
   ]
  },
  {
   "cell_type": "markdown",
   "metadata": {},
   "source": [
    "Regression Analysis\n",
    "Regression analysis is a form of predictive modelling technique which investigates the relationship between a dependent (target) and independent variable (s) (predictor). This technique is used for forecasting, time series modelling and finding the causal effect relationship between the variables. \n",
    "\n",
    "The Regression analysis is an important tool for modelling and analyzing data where  we fit a curve / line to the data points, in such a way that distance of each points from the predicted line/curve is minimized. \n",
    "\n",
    "Why do we use Regression Analysis?\n",
    "As mentioned above,Regression analysis estimates the relationship between two or more variables. For example, we want to estimate growth in sales of a company based on current economic conditions based on the recent company data which indicates that the growth in sales is around two and a half times the growth in the economy. Using this insight, we can predict future sales of the company based on current & past information.\n",
    "\n",
    "There are multiple benefits of using Regression analysis. They are as follows:\n",
    "\n",
    "It indicates the significant relationships between dependent variable and independent variable.\n",
    "It indicates the strength of impact of multiple independent variables on dependent variable.\n",
    "Regression analysis also allows us to compare the effects of variables measured on different scales, such as the effect of price changes and the number of promotional activities. These benefits help Market Researchers / Data Analysts / Data Scientists to eliminate and evaluate the best set of variables to be used for building predictive models."
   ]
  },
  {
   "cell_type": "markdown",
   "metadata": {},
   "source": [
    "Linear Regression\n",
    "It is one of the most widely known modeling technique. Linear regression is usually among the first few topics which people pick while learning predictive modeling. In this technique, the dependent variable is continuous, independent variable(s) can be continuous or discrete, and nature of regression line is linear.\n",
    "\n",
    "Linear Regression establishes a relationship between dependent variable (Y) and one or more independent variables (X) using a best fit straight line (also known as regression line).\n",
    "\n",
    "It is represented by an equation Y=a+b*X + e, where a is intercept, b is slope of the line and e is error term. This equation can be used to predict the value of target variable based on given predictor variable(s)."
   ]
  },
  {
   "cell_type": "code",
   "execution_count": null,
   "metadata": {},
   "outputs": [],
   "source": [
    "Project detil: There are 20640 observation and 10 variables. NOt all the variables are significant for the house price prediction. Therefore we are selecting only thres significant varaiables- \n",
    "    \n",
    "    1. housing_median_age      \n",
    "    2. total_rooms             \n",
    "    3.median_income         \n",
    "    as independent (X) variables and median_house_value as a target (Y) varables."
   ]
  },
  {
   "cell_type": "code",
   "execution_count": 1,
   "metadata": {},
   "outputs": [],
   "source": [
    "# I want import necessary libraries\n",
    "import pandas as pd\n",
    "import numpy as np\n",
    "import matplotlib.pyplot as plt\n",
    "import seaborn as sns; sns.set()"
   ]
  },
  {
   "cell_type": "markdown",
   "metadata": {},
   "source": [
    "# 1 . Import data "
   ]
  },
  {
   "cell_type": "code",
   "execution_count": 2,
   "metadata": {},
   "outputs": [],
   "source": [
    "# I wan timport huosing data from local folder\n",
    "Housdata = pd.read_csv('housing.csv')"
   ]
  },
  {
   "cell_type": "code",
   "execution_count": 3,
   "metadata": {},
   "outputs": [
    {
     "data": {
      "text/html": [
       "<div>\n",
       "<style scoped>\n",
       "    .dataframe tbody tr th:only-of-type {\n",
       "        vertical-align: middle;\n",
       "    }\n",
       "\n",
       "    .dataframe tbody tr th {\n",
       "        vertical-align: top;\n",
       "    }\n",
       "\n",
       "    .dataframe thead th {\n",
       "        text-align: right;\n",
       "    }\n",
       "</style>\n",
       "<table border=\"1\" class=\"dataframe\">\n",
       "  <thead>\n",
       "    <tr style=\"text-align: right;\">\n",
       "      <th></th>\n",
       "      <th>longitude</th>\n",
       "      <th>latitude</th>\n",
       "      <th>housing_median_age</th>\n",
       "      <th>total_rooms</th>\n",
       "      <th>total_bedrooms</th>\n",
       "      <th>population</th>\n",
       "      <th>households</th>\n",
       "      <th>median_income</th>\n",
       "      <th>ocean_proximity</th>\n",
       "      <th>median_house_value</th>\n",
       "    </tr>\n",
       "  </thead>\n",
       "  <tbody>\n",
       "    <tr>\n",
       "      <th>0</th>\n",
       "      <td>-122.23</td>\n",
       "      <td>37.88</td>\n",
       "      <td>41</td>\n",
       "      <td>880</td>\n",
       "      <td>129.0</td>\n",
       "      <td>322</td>\n",
       "      <td>126</td>\n",
       "      <td>8.3252</td>\n",
       "      <td>NEAR BAY</td>\n",
       "      <td>452600</td>\n",
       "    </tr>\n",
       "    <tr>\n",
       "      <th>1</th>\n",
       "      <td>-122.22</td>\n",
       "      <td>37.86</td>\n",
       "      <td>21</td>\n",
       "      <td>7099</td>\n",
       "      <td>1106.0</td>\n",
       "      <td>2401</td>\n",
       "      <td>1138</td>\n",
       "      <td>8.3014</td>\n",
       "      <td>NEAR BAY</td>\n",
       "      <td>358500</td>\n",
       "    </tr>\n",
       "  </tbody>\n",
       "</table>\n",
       "</div>"
      ],
      "text/plain": [
       "   longitude  latitude  housing_median_age  total_rooms  total_bedrooms  \\\n",
       "0    -122.23     37.88                  41          880           129.0   \n",
       "1    -122.22     37.86                  21         7099          1106.0   \n",
       "\n",
       "   population  households  median_income ocean_proximity  median_house_value  \n",
       "0         322         126         8.3252        NEAR BAY              452600  \n",
       "1        2401        1138         8.3014        NEAR BAY              358500  "
      ]
     },
     "execution_count": 3,
     "metadata": {},
     "output_type": "execute_result"
    }
   ],
   "source": [
    "Housdata.head(2)# In order to predict the median house value, we have to select independent input (variables/attrubutes/features). These could be:\n",
    "# medical_house_age \n",
    "# total_rooms\n",
    "# medialn_income\n",
    "#But for the exercitse purposes I am taking all the variable to see how the model is."
   ]
  },
  {
   "cell_type": "code",
   "execution_count": 79,
   "metadata": {},
   "outputs": [
    {
     "data": {
      "text/plain": [
       "(20640, 10)"
      ]
     },
     "execution_count": 79,
     "metadata": {},
     "output_type": "execute_result"
    }
   ],
   "source": [
    "Housdata.shape"
   ]
  },
  {
   "cell_type": "code",
   "execution_count": 4,
   "metadata": {},
   "outputs": [],
   "source": [
    "HData = Housdata.drop(['longitude','latitude','total_bedrooms','population','households','ocean_proximity'], axis = 1) # I want to check rows and cols"
   ]
  },
  {
   "cell_type": "code",
   "execution_count": 5,
   "metadata": {},
   "outputs": [
    {
     "data": {
      "text/html": [
       "<div>\n",
       "<style scoped>\n",
       "    .dataframe tbody tr th:only-of-type {\n",
       "        vertical-align: middle;\n",
       "    }\n",
       "\n",
       "    .dataframe tbody tr th {\n",
       "        vertical-align: top;\n",
       "    }\n",
       "\n",
       "    .dataframe thead th {\n",
       "        text-align: right;\n",
       "    }\n",
       "</style>\n",
       "<table border=\"1\" class=\"dataframe\">\n",
       "  <thead>\n",
       "    <tr style=\"text-align: right;\">\n",
       "      <th></th>\n",
       "      <th>housing_median_age</th>\n",
       "      <th>total_rooms</th>\n",
       "      <th>median_income</th>\n",
       "      <th>median_house_value</th>\n",
       "    </tr>\n",
       "  </thead>\n",
       "  <tbody>\n",
       "    <tr>\n",
       "      <th>count</th>\n",
       "      <td>20640.000000</td>\n",
       "      <td>20640.000000</td>\n",
       "      <td>20640.000000</td>\n",
       "      <td>20640.000000</td>\n",
       "    </tr>\n",
       "    <tr>\n",
       "      <th>mean</th>\n",
       "      <td>28.639486</td>\n",
       "      <td>2635.763081</td>\n",
       "      <td>3.870671</td>\n",
       "      <td>206855.816909</td>\n",
       "    </tr>\n",
       "    <tr>\n",
       "      <th>std</th>\n",
       "      <td>12.585558</td>\n",
       "      <td>2181.615252</td>\n",
       "      <td>1.899822</td>\n",
       "      <td>115395.615874</td>\n",
       "    </tr>\n",
       "    <tr>\n",
       "      <th>min</th>\n",
       "      <td>1.000000</td>\n",
       "      <td>2.000000</td>\n",
       "      <td>0.499900</td>\n",
       "      <td>14999.000000</td>\n",
       "    </tr>\n",
       "    <tr>\n",
       "      <th>25%</th>\n",
       "      <td>18.000000</td>\n",
       "      <td>1447.750000</td>\n",
       "      <td>2.563400</td>\n",
       "      <td>119600.000000</td>\n",
       "    </tr>\n",
       "    <tr>\n",
       "      <th>50%</th>\n",
       "      <td>29.000000</td>\n",
       "      <td>2127.000000</td>\n",
       "      <td>3.534800</td>\n",
       "      <td>179700.000000</td>\n",
       "    </tr>\n",
       "    <tr>\n",
       "      <th>75%</th>\n",
       "      <td>37.000000</td>\n",
       "      <td>3148.000000</td>\n",
       "      <td>4.743250</td>\n",
       "      <td>264725.000000</td>\n",
       "    </tr>\n",
       "    <tr>\n",
       "      <th>max</th>\n",
       "      <td>52.000000</td>\n",
       "      <td>39320.000000</td>\n",
       "      <td>15.000100</td>\n",
       "      <td>500001.000000</td>\n",
       "    </tr>\n",
       "  </tbody>\n",
       "</table>\n",
       "</div>"
      ],
      "text/plain": [
       "       housing_median_age   total_rooms  median_income  median_house_value\n",
       "count        20640.000000  20640.000000   20640.000000        20640.000000\n",
       "mean            28.639486   2635.763081       3.870671       206855.816909\n",
       "std             12.585558   2181.615252       1.899822       115395.615874\n",
       "min              1.000000      2.000000       0.499900        14999.000000\n",
       "25%             18.000000   1447.750000       2.563400       119600.000000\n",
       "50%             29.000000   2127.000000       3.534800       179700.000000\n",
       "75%             37.000000   3148.000000       4.743250       264725.000000\n",
       "max             52.000000  39320.000000      15.000100       500001.000000"
      ]
     },
     "execution_count": 5,
     "metadata": {},
     "output_type": "execute_result"
    }
   ],
   "source": [
    "HData.describe() # I want to see summary statistics of the data,\n",
    "# In general housing_median_age is found 29 years with a variability of 13 year,ranging from newly built house_median_age of 1 year ot max 52 years.\n",
    "# On an average median_income is found as almost $4.00m with a variation of 2 units spreading from $0.5m to $15.00 m. Some house has exceptionally very high median income and hence outlier as they fall beyond 2 x std.\n",
    "# There are 2636 rooms in a house in general some with only 2 rooms to 39320 rooms at most. Th variablity amoung the total_rooms is recoreded as 2182. This shows that there are some outlies as they are lying outsideo of 2 times std.\n",
    "# There is very high gap between median_house_value ($15k to $500K) with a average value of $207k and variability of median_house_value is $116K. This shows that some median_house_value are lying as oytliers ad they are far from 2*std of 116.\n",
    "# Also we can see from the count that there are some missing entries (NaN) for total_bedrooms(20433 entries out of 20640 observations)"
   ]
  },
  {
   "cell_type": "markdown",
   "metadata": {},
   "source": [
    "# Summary Statistics\n",
    "In order to predict the median house value, we have to select independent input (variables/attrubutes/features). These are : median_house_age,  total_rooms and  median_income.\n",
    " In general housing_median_age is found 29 years with a variability of 13 year, ranging from newly built house_median_age of 1 year to max 52 years.  On an average median_income is found as almost $4.00m with a variation of 2 units spreading from $0.5m to $15.00 m. Some house has exceptionally very high median income and hence outlier as they fall beyond 2 x std.\n",
    "There are 2636 rooms in a house in general some with only 2 rooms to 39320 rooms at most. The variablity among the total_rooms is recoreded as 2182. This shows that there are some outlies as they are lying outside of 2 times standard deviation. There is very high gap between median_house_value ($15k to $500K) with a average value of $207k and variability of median_house_value is $116K. This shows that some median_house_value are lying as oytliers ad they are far from 2*std of 116.\n"
   ]
  },
  {
   "cell_type": "code",
   "execution_count": 6,
   "metadata": {},
   "outputs": [
    {
     "data": {
      "text/plain": [
       "housing_median_age      int64\n",
       "total_rooms             int64\n",
       "median_income         float64\n",
       "median_house_value      int64\n",
       "dtype: object"
      ]
     },
     "execution_count": 6,
     "metadata": {},
     "output_type": "execute_result"
    }
   ],
   "source": [
    "HData.dtypes"
   ]
  },
  {
   "cell_type": "markdown",
   "metadata": {},
   "source": [
    "# Exploratory Data Analysis"
   ]
  },
  {
   "cell_type": "markdown",
   "metadata": {},
   "source": [
    "# # Handle missing values"
   ]
  },
  {
   "cell_type": "code",
   "execution_count": 7,
   "metadata": {},
   "outputs": [
    {
     "data": {
      "text/plain": [
       "housing_median_age    0\n",
       "total_rooms           0\n",
       "median_income         0\n",
       "median_house_value    0\n",
       "dtype: int64"
      ]
     },
     "execution_count": 7,
     "metadata": {},
     "output_type": "execute_result"
    }
   ],
   "source": [
    "HData.isnull().sum()"
   ]
  },
  {
   "cell_type": "code",
   "execution_count": 8,
   "metadata": {},
   "outputs": [
    {
     "data": {
      "text/plain": [
       "<bound method DataFrame.info of        housing_median_age  total_rooms  median_income  median_house_value\n",
       "0                      41          880         8.3252              452600\n",
       "1                      21         7099         8.3014              358500\n",
       "2                      52         1467         7.2574              352100\n",
       "3                      52         1274         5.6431              341300\n",
       "4                      52         1627         3.8462              342200\n",
       "5                      52          919         4.0368              269700\n",
       "6                      52         2535         3.6591              299200\n",
       "7                      52         3104         3.1200              241400\n",
       "8                      42         2555         2.0804              226700\n",
       "9                      52         3549         3.6912              261100\n",
       "10                     52         2202         3.2031              281500\n",
       "11                     52         3503         3.2705              241800\n",
       "12                     52         2491         3.0750              213500\n",
       "13                     52          696         2.6736              191300\n",
       "14                     52         2643         1.9167              159200\n",
       "15                     50         1120         2.1250              140000\n",
       "16                     52         1966         2.7750              152500\n",
       "17                     52         1228         2.1202              155500\n",
       "18                     50         2239         1.9911              158700\n",
       "19                     52         1503         2.6033              162900\n",
       "20                     40          751         1.3578              147500\n",
       "21                     42         1639         1.7135              159800\n",
       "22                     52         2436         1.7250              113900\n",
       "23                     52         1688         2.1806               99700\n",
       "24                     52         2224         2.6000              132600\n",
       "25                     41          535         2.4038              107500\n",
       "26                     49         1130         2.4597               93800\n",
       "27                     52         1898         1.8080              105500\n",
       "28                     50         2082         1.6424              108900\n",
       "29                     52          729         1.6875              132000\n",
       "...                   ...          ...            ...                 ...\n",
       "20610                  28         2130         1.3631               45500\n",
       "20611                  27         1783         1.2857               47000\n",
       "20612                  26         1377         1.4934               48300\n",
       "20613                  31         1728         1.4958               53400\n",
       "20614                  26         2276         2.4695               58000\n",
       "20615                  23         1076         2.3598               57500\n",
       "20616                  15         1810         2.0469               55100\n",
       "20617                  20          561         3.3021               70800\n",
       "20618                  25         1332         2.2500               63400\n",
       "20619                  22         1891         2.7303               99100\n",
       "20620                  40          198         4.5625              100000\n",
       "20621                  37         1244         2.3661               77500\n",
       "20622                  20          755         2.4167               67000\n",
       "20623                  32         1158         2.8235               65500\n",
       "20624                  16         1698         3.0739               87200\n",
       "20625                  37          102         4.1250               72000\n",
       "20626                  36         1124         2.1667               93800\n",
       "20627                   5          358         3.0000              162500\n",
       "20628                  19         2043         2.5952               92400\n",
       "20629                  28        10035         2.0943              108300\n",
       "20630                  11         2640         3.5673              112000\n",
       "20631                  15         2655         3.5179              107200\n",
       "20632                  15         2319         3.1250              115600\n",
       "20633                  27         2080         2.5495               98300\n",
       "20634                  28         2332         3.7125              116800\n",
       "20635                  25         1665         1.5603               78100\n",
       "20636                  18          697         2.5568               77100\n",
       "20637                  17         2254         1.7000               92300\n",
       "20638                  18         1860         1.8672               84700\n",
       "20639                  16         2785         2.3886               89400\n",
       "\n",
       "[20640 rows x 4 columns]>"
      ]
     },
     "execution_count": 8,
     "metadata": {},
     "output_type": "execute_result"
    }
   ],
   "source": [
    "HData.info"
   ]
  },
  {
   "cell_type": "markdown",
   "metadata": {},
   "source": [
    "# Univariate and bivariate analysis\n",
    "\n",
    "Our aim is to select input variable as far as independent among themselves. In this regard, we consider variables with 50% or lower correlation among themselves. medin_house_value is nearly highly correlated (0.69)with median_income,  housing_median_age(0.11) is next correlated inputs after total_rooms (0.13), however they are negatively correlated (-0.36) which is less than 50% and hecne I am taking both of them.\n",
    " "
   ]
  },
  {
   "cell_type": "code",
   "execution_count": 9,
   "metadata": {},
   "outputs": [
    {
     "data": {
      "text/html": [
       "<div>\n",
       "<style scoped>\n",
       "    .dataframe tbody tr th:only-of-type {\n",
       "        vertical-align: middle;\n",
       "    }\n",
       "\n",
       "    .dataframe tbody tr th {\n",
       "        vertical-align: top;\n",
       "    }\n",
       "\n",
       "    .dataframe thead th {\n",
       "        text-align: right;\n",
       "    }\n",
       "</style>\n",
       "<table border=\"1\" class=\"dataframe\">\n",
       "  <thead>\n",
       "    <tr style=\"text-align: right;\">\n",
       "      <th></th>\n",
       "      <th>housing_median_age</th>\n",
       "      <th>total_rooms</th>\n",
       "      <th>median_income</th>\n",
       "      <th>median_house_value</th>\n",
       "    </tr>\n",
       "  </thead>\n",
       "  <tbody>\n",
       "    <tr>\n",
       "      <th>housing_median_age</th>\n",
       "      <td>1.000000</td>\n",
       "      <td>-0.361262</td>\n",
       "      <td>-0.119034</td>\n",
       "      <td>0.105623</td>\n",
       "    </tr>\n",
       "    <tr>\n",
       "      <th>total_rooms</th>\n",
       "      <td>-0.361262</td>\n",
       "      <td>1.000000</td>\n",
       "      <td>0.198050</td>\n",
       "      <td>0.134153</td>\n",
       "    </tr>\n",
       "    <tr>\n",
       "      <th>median_income</th>\n",
       "      <td>-0.119034</td>\n",
       "      <td>0.198050</td>\n",
       "      <td>1.000000</td>\n",
       "      <td>0.688075</td>\n",
       "    </tr>\n",
       "    <tr>\n",
       "      <th>median_house_value</th>\n",
       "      <td>0.105623</td>\n",
       "      <td>0.134153</td>\n",
       "      <td>0.688075</td>\n",
       "      <td>1.000000</td>\n",
       "    </tr>\n",
       "  </tbody>\n",
       "</table>\n",
       "</div>"
      ],
      "text/plain": [
       "                    housing_median_age  total_rooms  median_income  \\\n",
       "housing_median_age            1.000000    -0.361262      -0.119034   \n",
       "total_rooms                  -0.361262     1.000000       0.198050   \n",
       "median_income                -0.119034     0.198050       1.000000   \n",
       "median_house_value            0.105623     0.134153       0.688075   \n",
       "\n",
       "                    median_house_value  \n",
       "housing_median_age            0.105623  \n",
       "total_rooms                   0.134153  \n",
       "median_income                 0.688075  \n",
       "median_house_value            1.000000  "
      ]
     },
     "execution_count": 9,
     "metadata": {},
     "output_type": "execute_result"
    }
   ],
   "source": [
    "HData.corr() # I want to check corrolation between the independent and dependetn variables"
   ]
  },
  {
   "cell_type": "code",
   "execution_count": 10,
   "metadata": {},
   "outputs": [
    {
     "data": {
      "text/html": [
       "<style  type=\"text/css\" >\n",
       "    #T_2759770c_f40d_11e8_88be_d46a6a4f9838row0_col0 {\n",
       "            background-color:  #023858;\n",
       "        }    #T_2759770c_f40d_11e8_88be_d46a6a4f9838row0_col1 {\n",
       "            background-color:  #fff7fb;\n",
       "        }    #T_2759770c_f40d_11e8_88be_d46a6a4f9838row0_col2 {\n",
       "            background-color:  #fff7fb;\n",
       "        }    #T_2759770c_f40d_11e8_88be_d46a6a4f9838row0_col3 {\n",
       "            background-color:  #fff7fb;\n",
       "        }    #T_2759770c_f40d_11e8_88be_d46a6a4f9838row1_col0 {\n",
       "            background-color:  #fff7fb;\n",
       "        }    #T_2759770c_f40d_11e8_88be_d46a6a4f9838row1_col1 {\n",
       "            background-color:  #023858;\n",
       "        }    #T_2759770c_f40d_11e8_88be_d46a6a4f9838row1_col2 {\n",
       "            background-color:  #c5cce3;\n",
       "        }    #T_2759770c_f40d_11e8_88be_d46a6a4f9838row1_col3 {\n",
       "            background-color:  #faf3f9;\n",
       "        }    #T_2759770c_f40d_11e8_88be_d46a6a4f9838row2_col0 {\n",
       "            background-color:  #e0deed;\n",
       "        }    #T_2759770c_f40d_11e8_88be_d46a6a4f9838row2_col1 {\n",
       "            background-color:  #97b7d7;\n",
       "        }    #T_2759770c_f40d_11e8_88be_d46a6a4f9838row2_col2 {\n",
       "            background-color:  #023858;\n",
       "        }    #T_2759770c_f40d_11e8_88be_d46a6a4f9838row2_col3 {\n",
       "            background-color:  #2c89bd;\n",
       "        }    #T_2759770c_f40d_11e8_88be_d46a6a4f9838row3_col0 {\n",
       "            background-color:  #b1c2de;\n",
       "        }    #T_2759770c_f40d_11e8_88be_d46a6a4f9838row3_col1 {\n",
       "            background-color:  #a9bfdc;\n",
       "        }    #T_2759770c_f40d_11e8_88be_d46a6a4f9838row3_col2 {\n",
       "            background-color:  #1077b4;\n",
       "        }    #T_2759770c_f40d_11e8_88be_d46a6a4f9838row3_col3 {\n",
       "            background-color:  #023858;\n",
       "        }</style>  \n",
       "<table id=\"T_2759770c_f40d_11e8_88be_d46a6a4f9838\" > \n",
       "<thead>    <tr> \n",
       "        <th class=\"blank level0\" ></th> \n",
       "        <th class=\"col_heading level0 col0\" >housing_median_age</th> \n",
       "        <th class=\"col_heading level0 col1\" >total_rooms</th> \n",
       "        <th class=\"col_heading level0 col2\" >median_income</th> \n",
       "        <th class=\"col_heading level0 col3\" >median_house_value</th> \n",
       "    </tr></thead> \n",
       "<tbody>    <tr> \n",
       "        <th id=\"T_2759770c_f40d_11e8_88be_d46a6a4f9838level0_row0\" class=\"row_heading level0 row0\" >housing_median_age</th> \n",
       "        <td id=\"T_2759770c_f40d_11e8_88be_d46a6a4f9838row0_col0\" class=\"data row0 col0\" >1</td> \n",
       "        <td id=\"T_2759770c_f40d_11e8_88be_d46a6a4f9838row0_col1\" class=\"data row0 col1\" >-0.36</td> \n",
       "        <td id=\"T_2759770c_f40d_11e8_88be_d46a6a4f9838row0_col2\" class=\"data row0 col2\" >-0.12</td> \n",
       "        <td id=\"T_2759770c_f40d_11e8_88be_d46a6a4f9838row0_col3\" class=\"data row0 col3\" >0.11</td> \n",
       "    </tr>    <tr> \n",
       "        <th id=\"T_2759770c_f40d_11e8_88be_d46a6a4f9838level0_row1\" class=\"row_heading level0 row1\" >total_rooms</th> \n",
       "        <td id=\"T_2759770c_f40d_11e8_88be_d46a6a4f9838row1_col0\" class=\"data row1 col0\" >-0.36</td> \n",
       "        <td id=\"T_2759770c_f40d_11e8_88be_d46a6a4f9838row1_col1\" class=\"data row1 col1\" >1</td> \n",
       "        <td id=\"T_2759770c_f40d_11e8_88be_d46a6a4f9838row1_col2\" class=\"data row1 col2\" >0.2</td> \n",
       "        <td id=\"T_2759770c_f40d_11e8_88be_d46a6a4f9838row1_col3\" class=\"data row1 col3\" >0.13</td> \n",
       "    </tr>    <tr> \n",
       "        <th id=\"T_2759770c_f40d_11e8_88be_d46a6a4f9838level0_row2\" class=\"row_heading level0 row2\" >median_income</th> \n",
       "        <td id=\"T_2759770c_f40d_11e8_88be_d46a6a4f9838row2_col0\" class=\"data row2 col0\" >-0.12</td> \n",
       "        <td id=\"T_2759770c_f40d_11e8_88be_d46a6a4f9838row2_col1\" class=\"data row2 col1\" >0.2</td> \n",
       "        <td id=\"T_2759770c_f40d_11e8_88be_d46a6a4f9838row2_col2\" class=\"data row2 col2\" >1</td> \n",
       "        <td id=\"T_2759770c_f40d_11e8_88be_d46a6a4f9838row2_col3\" class=\"data row2 col3\" >0.69</td> \n",
       "    </tr>    <tr> \n",
       "        <th id=\"T_2759770c_f40d_11e8_88be_d46a6a4f9838level0_row3\" class=\"row_heading level0 row3\" >median_house_value</th> \n",
       "        <td id=\"T_2759770c_f40d_11e8_88be_d46a6a4f9838row3_col0\" class=\"data row3 col0\" >0.11</td> \n",
       "        <td id=\"T_2759770c_f40d_11e8_88be_d46a6a4f9838row3_col1\" class=\"data row3 col1\" >0.13</td> \n",
       "        <td id=\"T_2759770c_f40d_11e8_88be_d46a6a4f9838row3_col2\" class=\"data row3 col2\" >0.69</td> \n",
       "        <td id=\"T_2759770c_f40d_11e8_88be_d46a6a4f9838row3_col3\" class=\"data row3 col3\" >1</td> \n",
       "    </tr></tbody> \n",
       "</table> "
      ],
      "text/plain": [
       "<pandas.io.formats.style.Styler at 0x20e8d2d06d8>"
      ]
     },
     "execution_count": 10,
     "metadata": {},
     "output_type": "execute_result"
    }
   ],
   "source": [
    "corr = HData.corr()\n",
    "corr.style.background_gradient()\n",
    "corr.style.background_gradient().set_precision(2)# precision(2) is set for 2 decimal palces. We can put as many decimal we want \n",
    "\n",
    "# medin_house_value is nearly highly correlated (0.69)with median_income. housing_median_age(0.11) is next correlated inputs after total_rooms (0.13), however they are negatively correlated (-0.36) which is less than 50% and hecne I am takin gboth of them. "
   ]
  },
  {
   "cell_type": "code",
   "execution_count": 11,
   "metadata": {},
   "outputs": [
    {
     "data": {
      "image/png": "[encoded data removed]",
      "text/plain": [
       "<Figure size 432x288 with 2 Axes>"
      ]
     },
     "metadata": {},
     "output_type": "display_data"
    }
   ],
   "source": [
    " ax = sns.heatmap(HData, vmin=0, vmax=10)"
   ]
  },
  {
   "cell_type": "markdown",
   "metadata": {},
   "source": [
    "# 3. Split data "
   ]
  },
  {
   "cell_type": "code",
   "execution_count": 12,
   "metadata": {},
   "outputs": [],
   "source": [
    "X = HData[['housing_median_age','total_rooms','median_income']]\n",
    "Y = HData['median_house_value']"
   ]
  },
  {
   "cell_type": "code",
   "execution_count": 13,
   "metadata": {},
   "outputs": [],
   "source": [
    "from sklearn.model_selection import train_test_split\n",
    "X_train,X_test,Y_train,Y_test=train_test_split(X,Y,test_size=0.2,random_state=0)"
   ]
  },
  {
   "cell_type": "code",
   "execution_count": 14,
   "metadata": {},
   "outputs": [
    {
     "name": "stdout",
     "output_type": "stream",
     "text": [
      "(16512, 3)\n",
      "(4128, 3)\n"
     ]
    }
   ],
   "source": [
    "print(X_train.shape)\n",
    "print(X_test.shape)"
   ]
  },
  {
   "cell_type": "code",
   "execution_count": 15,
   "metadata": {},
   "outputs": [
    {
     "name": "stdout",
     "output_type": "stream",
     "text": [
      "(20640,)\n",
      "(16512,)\n",
      "(4128,)\n"
     ]
    }
   ],
   "source": [
    "print(Y.shape)\n",
    "print(Y_train.shape)\n",
    "print(Y_test.shape)"
   ]
  },
  {
   "cell_type": "code",
   "execution_count": null,
   "metadata": {},
   "outputs": [],
   "source": [
    "## Data Visualization"
   ]
  },
  {
   "cell_type": "code",
   "execution_count": 81,
   "metadata": {},
   "outputs": [
    {
     "data": {
      "text/plain": [
       "<matplotlib.axes._subplots.AxesSubplot at 0x20e93b53be0>"
      ]
     },
     "execution_count": 81,
     "metadata": {},
     "output_type": "execute_result"
    },
    {
     "data": {
      "image/png": "[encoded data removed]",
      "text/plain": [
       "<Figure size 1152x576 with 3 Axes>"
      ]
     },
     "metadata": {},
     "output_type": "display_data"
    }
   ],
   "source": [
    "#visualize the relationship between the features and the response using scatterplots\n",
    "fig, axs = plt.subplots(1, 3, sharey=True)\n",
    "Housdata.plot(kind='scatter', x='housing_median_age', y='median_house_value', ax=axs[0], figsize=(16, 8))\n",
    "Housdata.plot(kind='scatter', x='total_rooms', y='median_house_value', ax=axs[1])\n",
    "Housdata.plot(kind='scatter', x='median_income', y='median_house_value', ax=axs[2])"
   ]
  },
  {
   "cell_type": "code",
   "execution_count": null,
   "metadata": {},
   "outputs": [],
   "source": [
    "Questions About the Data\n",
    "On the basis of this data, we want to tknow what will be the median_house _value in the future?\n",
    "\n",
    "These general questions might lead you to more specific questions:\n",
    "\n",
    "Is there a relationship between independent varaibles and  and target variables?\n",
    "How strong is that relationship?\n",
    "Which variables contribute to median_house_values?\n",
    "What is the effect of each varaibles type on median_house_value?\n",
    "Given the values in a particular independent variables, can median_house_value be predicted? From the graph above, median income is most influential variable."
   ]
  },
  {
   "cell_type": "code",
   "execution_count": 16,
   "metadata": {},
   "outputs": [
    {
     "data": {
      "text/plain": [
       "<matplotlib.axes._subplots.AxesSubplot at 0x20e8e0f80f0>"
      ]
     },
     "execution_count": 16,
     "metadata": {},
     "output_type": "execute_result"
    },
    {
     "data": {
      "image/png": "[encoded data removed]",
      "text/plain": [
       "<Figure size 576x432 with 1 Axes>"
      ]
     },
     "metadata": {},
     "output_type": "display_data"
    }
   ],
   "source": [
    "X_train.boxplot('housing_median_age', figsize=(8,6),grid=True) # House median_age is below 52 years and half of the data houses are below 30 years, some newly constructued houses. "
   ]
  },
  {
   "cell_type": "code",
   "execution_count": 17,
   "metadata": {},
   "outputs": [
    {
     "data": {
      "text/plain": [
       "<matplotlib.axes._subplots.AxesSubplot at 0x20e8e163c88>"
      ]
     },
     "execution_count": 17,
     "metadata": {},
     "output_type": "execute_result"
    },
    {
     "data": {
      "image/png": "[encoded data removed]",
      "text/plain": [
       "<Figure size 576x432 with 1 Axes>"
      ]
     },
     "metadata": {},
     "output_type": "display_data"
    }
   ],
   "source": [
    "X_train.boxplot('total_rooms', figsize=(8,6),grid=True)"
   ]
  },
  {
   "cell_type": "code",
   "execution_count": 18,
   "metadata": {},
   "outputs": [
    {
     "data": {
      "text/plain": [
       "<matplotlib.axes._subplots.AxesSubplot at 0x20e8e1c07b8>"
      ]
     },
     "execution_count": 18,
     "metadata": {},
     "output_type": "execute_result"
    },
    {
     "data": {
      "image/png": "[encoded data removed]",
      "text/plain": [
       "<Figure size 576x432 with 1 Axes>"
      ]
     },
     "metadata": {},
     "output_type": "display_data"
    }
   ],
   "source": [
    "X_train.boxplot('median_income', figsize=(8,6),grid=True)"
   ]
  },
  {
   "cell_type": "code",
   "execution_count": 19,
   "metadata": {},
   "outputs": [
    {
     "data": {
      "text/plain": [
       "<matplotlib.axes._subplots.AxesSubplot at 0x20e8e21d8d0>"
      ]
     },
     "execution_count": 19,
     "metadata": {},
     "output_type": "execute_result"
    },
    {
     "data": {
      "image/png": "[encoded data removed]",
      "text/plain": [
       "<Figure size 432x288 with 1 Axes>"
      ]
     },
     "metadata": {},
     "output_type": "display_data"
    }
   ],
   "source": [
    "X_train['housing_median_age'].plot(kind='hist') # to some extent data looks in normal shape "
   ]
  },
  {
   "cell_type": "code",
   "execution_count": 20,
   "metadata": {},
   "outputs": [
    {
     "data": {
      "text/plain": [
       "<matplotlib.axes._subplots.AxesSubplot at 0x20e8e28bc18>"
      ]
     },
     "execution_count": 20,
     "metadata": {},
     "output_type": "execute_result"
    },
    {
     "data": {
      "image/png": "[encoded data removed]",
      "text/plain": [
       "<Figure size 432x288 with 1 Axes>"
      ]
     },
     "metadata": {},
     "output_type": "display_data"
    }
   ],
   "source": [
    "X_train['total_rooms'].plot(kind='hist') # data are heavily weighted to around zero or 5"
   ]
  },
  {
   "cell_type": "code",
   "execution_count": 21,
   "metadata": {},
   "outputs": [
    {
     "data": {
      "text/plain": [
       "<matplotlib.axes._subplots.AxesSubplot at 0x20e8e308668>"
      ]
     },
     "execution_count": 21,
     "metadata": {},
     "output_type": "execute_result"
    },
    {
     "data": {
      "image/png": "[encoded data removed]",
      "text/plain": [
       "<Figure size 432x288 with 1 Axes>"
      ]
     },
     "metadata": {},
     "output_type": "display_data"
    }
   ],
   "source": [
    "X_train['median_income'].plot(kind='hist') # Normally distributed toward median_income of 4 units"
   ]
  },
  {
   "cell_type": "code",
   "execution_count": 22,
   "metadata": {},
   "outputs": [
    {
     "data": {
      "text/plain": [
       "array([[6.0000e+00, 5.0200e+02, 4.2386e+00],\n",
       "       [5.2000e+01, 2.3810e+03, 4.3898e+00],\n",
       "       [2.6000e+01, 1.7180e+03, 3.9333e+00],\n",
       "       ...,\n",
       "       [3.1000e+01, 1.4310e+03, 3.1977e+00],\n",
       "       [3.4000e+01, 2.1250e+03, 5.6315e+00],\n",
       "       [1.5000e+01, 1.1710e+03, 1.3882e+00]])"
      ]
     },
     "execution_count": 22,
     "metadata": {},
     "output_type": "execute_result"
    }
   ],
   "source": [
    "X_train.values\n"
   ]
  },
  {
   "cell_type": "code",
   "execution_count": 23,
   "metadata": {},
   "outputs": [
    {
     "data": {
      "text/html": [
       "<div>\n",
       "<style scoped>\n",
       "    .dataframe tbody tr th:only-of-type {\n",
       "        vertical-align: middle;\n",
       "    }\n",
       "\n",
       "    .dataframe tbody tr th {\n",
       "        vertical-align: top;\n",
       "    }\n",
       "\n",
       "    .dataframe thead th {\n",
       "        text-align: right;\n",
       "    }\n",
       "</style>\n",
       "<table border=\"1\" class=\"dataframe\">\n",
       "  <thead>\n",
       "    <tr style=\"text-align: right;\">\n",
       "      <th></th>\n",
       "      <th>housing_median_age</th>\n",
       "      <th>total_rooms</th>\n",
       "      <th>median_income</th>\n",
       "    </tr>\n",
       "  </thead>\n",
       "  <tbody>\n",
       "  </tbody>\n",
       "</table>\n",
       "</div>"
      ],
      "text/plain": [
       "Empty DataFrame\n",
       "Columns: [housing_median_age, total_rooms, median_income]\n",
       "Index: []"
      ]
     },
     "execution_count": 23,
     "metadata": {},
     "output_type": "execute_result"
    }
   ],
   "source": [
    "X_train[X_train.isnull().any(axis=1)]"
   ]
  },
  {
   "cell_type": "code",
   "execution_count": 24,
   "metadata": {},
   "outputs": [
    {
     "data": {
      "text/html": [
       "<div>\n",
       "<style scoped>\n",
       "    .dataframe tbody tr th:only-of-type {\n",
       "        vertical-align: middle;\n",
       "    }\n",
       "\n",
       "    .dataframe tbody tr th {\n",
       "        vertical-align: top;\n",
       "    }\n",
       "\n",
       "    .dataframe thead th {\n",
       "        text-align: right;\n",
       "    }\n",
       "</style>\n",
       "<table border=\"1\" class=\"dataframe\">\n",
       "  <thead>\n",
       "    <tr style=\"text-align: right;\">\n",
       "      <th></th>\n",
       "      <th>housing_median_age</th>\n",
       "      <th>total_rooms</th>\n",
       "      <th>median_income</th>\n",
       "    </tr>\n",
       "  </thead>\n",
       "  <tbody>\n",
       "    <tr>\n",
       "      <th>12069</th>\n",
       "      <td>6</td>\n",
       "      <td>502</td>\n",
       "      <td>4.2386</td>\n",
       "    </tr>\n",
       "    <tr>\n",
       "      <th>15925</th>\n",
       "      <td>52</td>\n",
       "      <td>2381</td>\n",
       "      <td>4.3898</td>\n",
       "    </tr>\n",
       "    <tr>\n",
       "      <th>11162</th>\n",
       "      <td>26</td>\n",
       "      <td>1718</td>\n",
       "      <td>3.9333</td>\n",
       "    </tr>\n",
       "    <tr>\n",
       "      <th>4904</th>\n",
       "      <td>38</td>\n",
       "      <td>697</td>\n",
       "      <td>1.4653</td>\n",
       "    </tr>\n",
       "    <tr>\n",
       "      <th>4683</th>\n",
       "      <td>52</td>\n",
       "      <td>2373</td>\n",
       "      <td>3.1765</td>\n",
       "    </tr>\n",
       "  </tbody>\n",
       "</table>\n",
       "</div>"
      ],
      "text/plain": [
       "       housing_median_age  total_rooms  median_income\n",
       "12069                   6          502         4.2386\n",
       "15925                  52         2381         4.3898\n",
       "11162                  26         1718         3.9333\n",
       "4904                   38          697         1.4653\n",
       "4683                   52         2373         3.1765"
      ]
     },
     "execution_count": 24,
     "metadata": {},
     "output_type": "execute_result"
    }
   ],
   "source": [
    "X_train.head()        "
   ]
  },
  {
   "cell_type": "code",
   "execution_count": 25,
   "metadata": {},
   "outputs": [
    {
     "data": {
      "text/html": [
       "<div>\n",
       "<style scoped>\n",
       "    .dataframe tbody tr th:only-of-type {\n",
       "        vertical-align: middle;\n",
       "    }\n",
       "\n",
       "    .dataframe tbody tr th {\n",
       "        vertical-align: top;\n",
       "    }\n",
       "\n",
       "    .dataframe thead th {\n",
       "        text-align: right;\n",
       "    }\n",
       "</style>\n",
       "<table border=\"1\" class=\"dataframe\">\n",
       "  <thead>\n",
       "    <tr style=\"text-align: right;\">\n",
       "      <th></th>\n",
       "      <th>housing_median_age</th>\n",
       "      <th>total_rooms</th>\n",
       "      <th>median_income</th>\n",
       "    </tr>\n",
       "  </thead>\n",
       "  <tbody>\n",
       "    <tr>\n",
       "      <th>13123</th>\n",
       "      <td>20</td>\n",
       "      <td>1314</td>\n",
       "      <td>4.4125</td>\n",
       "    </tr>\n",
       "    <tr>\n",
       "      <th>19648</th>\n",
       "      <td>27</td>\n",
       "      <td>1118</td>\n",
       "      <td>2.9135</td>\n",
       "    </tr>\n",
       "    <tr>\n",
       "      <th>9845</th>\n",
       "      <td>31</td>\n",
       "      <td>1431</td>\n",
       "      <td>3.1977</td>\n",
       "    </tr>\n",
       "    <tr>\n",
       "      <th>10799</th>\n",
       "      <td>34</td>\n",
       "      <td>2125</td>\n",
       "      <td>5.6315</td>\n",
       "    </tr>\n",
       "    <tr>\n",
       "      <th>2732</th>\n",
       "      <td>15</td>\n",
       "      <td>1171</td>\n",
       "      <td>1.3882</td>\n",
       "    </tr>\n",
       "  </tbody>\n",
       "</table>\n",
       "</div>"
      ],
      "text/plain": [
       "       housing_median_age  total_rooms  median_income\n",
       "13123                  20         1314         4.4125\n",
       "19648                  27         1118         2.9135\n",
       "9845                   31         1431         3.1977\n",
       "10799                  34         2125         5.6315\n",
       "2732                   15         1171         1.3882"
      ]
     },
     "execution_count": 25,
     "metadata": {},
     "output_type": "execute_result"
    }
   ],
   "source": [
    "X_train.tail()"
   ]
  },
  {
   "cell_type": "code",
   "execution_count": 26,
   "metadata": {},
   "outputs": [
    {
     "data": {
      "text/plain": [
       "(16512, 3)"
      ]
     },
     "execution_count": 26,
     "metadata": {},
     "output_type": "execute_result"
    }
   ],
   "source": [
    "X_train.shape"
   ]
  },
  {
   "cell_type": "code",
   "execution_count": 27,
   "metadata": {},
   "outputs": [
    {
     "data": {
      "text/html": [
       "<div>\n",
       "<style scoped>\n",
       "    .dataframe tbody tr th:only-of-type {\n",
       "        vertical-align: middle;\n",
       "    }\n",
       "\n",
       "    .dataframe tbody tr th {\n",
       "        vertical-align: top;\n",
       "    }\n",
       "\n",
       "    .dataframe thead th {\n",
       "        text-align: right;\n",
       "    }\n",
       "</style>\n",
       "<table border=\"1\" class=\"dataframe\">\n",
       "  <thead>\n",
       "    <tr style=\"text-align: right;\">\n",
       "      <th></th>\n",
       "      <th>housing_median_age</th>\n",
       "      <th>total_rooms</th>\n",
       "      <th>median_income</th>\n",
       "    </tr>\n",
       "  </thead>\n",
       "  <tbody>\n",
       "    <tr>\n",
       "      <th>count</th>\n",
       "      <td>16512.000000</td>\n",
       "      <td>16512.000000</td>\n",
       "      <td>16512.000000</td>\n",
       "    </tr>\n",
       "    <tr>\n",
       "      <th>mean</th>\n",
       "      <td>28.619065</td>\n",
       "      <td>2640.140322</td>\n",
       "      <td>3.876298</td>\n",
       "    </tr>\n",
       "    <tr>\n",
       "      <th>std</th>\n",
       "      <td>12.600999</td>\n",
       "      <td>2186.893548</td>\n",
       "      <td>1.906783</td>\n",
       "    </tr>\n",
       "    <tr>\n",
       "      <th>min</th>\n",
       "      <td>1.000000</td>\n",
       "      <td>2.000000</td>\n",
       "      <td>0.499900</td>\n",
       "    </tr>\n",
       "    <tr>\n",
       "      <th>25%</th>\n",
       "      <td>18.000000</td>\n",
       "      <td>1448.000000</td>\n",
       "      <td>2.566625</td>\n",
       "    </tr>\n",
       "    <tr>\n",
       "      <th>50%</th>\n",
       "      <td>29.000000</td>\n",
       "      <td>2127.000000</td>\n",
       "      <td>3.548500</td>\n",
       "    </tr>\n",
       "    <tr>\n",
       "      <th>75%</th>\n",
       "      <td>37.000000</td>\n",
       "      <td>3149.000000</td>\n",
       "      <td>4.747575</td>\n",
       "    </tr>\n",
       "    <tr>\n",
       "      <th>max</th>\n",
       "      <td>52.000000</td>\n",
       "      <td>32627.000000</td>\n",
       "      <td>15.000100</td>\n",
       "    </tr>\n",
       "  </tbody>\n",
       "</table>\n",
       "</div>"
      ],
      "text/plain": [
       "       housing_median_age   total_rooms  median_income\n",
       "count        16512.000000  16512.000000   16512.000000\n",
       "mean            28.619065   2640.140322       3.876298\n",
       "std             12.600999   2186.893548       1.906783\n",
       "min              1.000000      2.000000       0.499900\n",
       "25%             18.000000   1448.000000       2.566625\n",
       "50%             29.000000   2127.000000       3.548500\n",
       "75%             37.000000   3149.000000       4.747575\n",
       "max             52.000000  32627.000000      15.000100"
      ]
     },
     "execution_count": 27,
     "metadata": {},
     "output_type": "execute_result"
    }
   ],
   "source": [
    "X_train.describe() # it shows that no missing values, but Ocean_proximity is not displaced because .describe only takes account of numeral value and ocean_proximity is categorical "
   ]
  },
  {
   "cell_type": "markdown",
   "metadata": {},
   "source": [
    "# 5. Standardise data \n",
    "# Note that once the data are normalized or scaled, then we cannot make a summary statistics and hence we need to assign different name to scaled data (train_std or test_std or similar)"
   ]
  },
  {
   "cell_type": "code",
   "execution_count": 28,
   "metadata": {},
   "outputs": [],
   "source": [
    "from sklearn.preprocessing import StandardScaler # Since data are not of similar scale, scaling is needed for the whole set \n",
    "ss = StandardScaler()\n",
    "X_train_std = ss.fit_transform(X_train)\n",
    "X_test_std = ss.fit_transform(X_test)\n"
   ]
  },
  {
   "cell_type": "code",
   "execution_count": 29,
   "metadata": {},
   "outputs": [
    {
     "data": {
      "text/plain": [
       "array([[-1.79507596, -0.97773624,  0.19001247],\n",
       "       [ 1.85553889, -0.11850059,  0.26931072],\n",
       "       [-0.20785212, -0.42167953,  0.02989505],\n",
       "       ...,\n",
       "       [ 0.18895385, -0.55291989, -0.35589721],\n",
       "       [ 0.42703742, -0.23556516,  0.92053182],\n",
       "       [-1.08082523, -0.67181359, -1.30490629]])"
      ]
     },
     "execution_count": 29,
     "metadata": {},
     "output_type": "execute_result"
    }
   ],
   "source": [
    "X_train_std # I want to see all transformed data and now we can see that the data has been transformed."
   ]
  },
  {
   "cell_type": "code",
   "execution_count": 30,
   "metadata": {},
   "outputs": [
    {
     "data": {
      "text/plain": [
       "array([[-5.36694534e-01, -2.39437828e-01,  1.62239101e-01],\n",
       "       [ 2.61818725e-01,  8.08171703e-04,  1.03200015e+00],\n",
       "       [ 2.22647471e-02,  2.54015420e-01,  2.67446099e-01],\n",
       "       ...,\n",
       "       [-1.41505912e+00, -4.15803388e-01, -3.44881069e-01],\n",
       "       [-8.56099838e-01,  5.58934780e-02,  1.22649150e+00],\n",
       "       [ 1.85884524e+00, -4.80609631e-01, -2.75473304e-01]])"
      ]
     },
     "execution_count": 30,
     "metadata": {},
     "output_type": "execute_result"
    }
   ],
   "source": [
    "X_test_std"
   ]
  },
  {
   "cell_type": "markdown",
   "metadata": {},
   "source": [
    "# 6. Perform Linear regression"
   ]
  },
  {
   "cell_type": "code",
   "execution_count": null,
   "metadata": {},
   "outputs": [],
   "source": [
    "Simple Linear regression is an approach for predicting a quantitative response using a single feature (or \"predictor\" or \"input variable\"). It takes the following form:\n",
    "\n",
    "y=β0+β1x \n",
    "What does each term represent?\n",
    "\n",
    ".y  is the response\n",
    ".x  is the feature\n",
    ".β0  is the intercept\n",
    ".β1  is the coefficient for x\n",
    "Together,  β0  and  β1  are called the model coefficients. To create your model, you must \"learn\" the values of these coefficients. And once we've learned these coefficients, we can use the model to predict Sales!"
   ]
  },
  {
   "cell_type": "code",
   "execution_count": null,
   "metadata": {},
   "outputs": [],
   "source": [
    "Estimating (\"Learning\") Model Coefficients\n",
    "Generally speaking, coefficients are estimated using the least squares criterion, which means we find the line (mathematically) which minimizes the sum of squared residuals (or \"sum of squared errors\"):\n"
   ]
  },
  {
   "cell_type": "markdown",
   "metadata": {},
   "source": [
    "# Introduction to Scikit Learn\n",
    "\n",
    "Since its release in 2007, scikit-learn has become one of the most popular open source Machine Learning libraries for Python. scikit-learn provides algorithms for Machine Learning tasks including classification, regression, dimensionality reduction, and clustering. It also provides modules for extracting features, processing data, and evaluating models.\n",
    "\n",
    "Conceived as an extension to the SciPy library, scikit-learn is built on the popular Python libraries NumPy and matplotlib. NumPy extends Python to support efficient operations on large arrays and multidimensional matrices. matplotlib provides visualization tools, and SciPy provides modules for scientific computing.\n",
    "\n",
    "scikit-learn is popular for academic research because it has a well-documented, easy-to-use, and versatile API. Developers can use scikit-learn to experiment with different algorithms by changing only a few lines of the code. scikit-learn wraps some popular implementations of machine learning algorithms, such as LIBSVM and LIBLINEAR. Other Python libraries, including NLTK, include wrappers for scikit-learn. scikit-learn also includes a variety of datasets, allowing developers to focus on algorithms rather than obtaining and cleaning data.\n",
    "\n",
    "Licensed under the permissive BSD license, scikit-learn can be used in commercial applications without restrictions. Many of scikit-learn's algorithms are fast and scalable to all but massive datasets. Finally, scikit-learn is noted for its reliability; much of the library is covered by automated tests."
   ]
  },
  {
   "cell_type": "code",
   "execution_count": 31,
   "metadata": {},
   "outputs": [
    {
     "data": {
      "text/plain": [
       "LinearRegression(copy_X=True, fit_intercept=True, n_jobs=1, normalize=False)"
      ]
     },
     "execution_count": 31,
     "metadata": {},
     "output_type": "execute_result"
    }
   ],
   "source": [
    "from sklearn.linear_model import LinearRegression\n",
    "model = LinearRegression()\n",
    "model.fit(X_train_std,Y_train)"
   ]
  },
  {
   "cell_type": "markdown",
   "metadata": {},
   "source": [
    "# Model design\n",
    "In order to predict the median_house_value we have used Linear Regression, decision tree regression and Random Forest Regression. For them to train the algorithms, we split the data into 80 – 20 ratio. We built the model in training set and test it on the test set of the data split.\n"
   ]
  },
  {
   "cell_type": "code",
   "execution_count": 32,
   "metadata": {},
   "outputs": [
    {
     "name": "stdout",
     "output_type": "stream",
     "text": [
      "                            OLS Regression Results                            \n",
      "==============================================================================\n",
      "Dep. Variable:     median_house_value   R-squared:                       0.520\n",
      "Model:                            OLS   Adj. R-squared:                  0.520\n",
      "Method:                 Least Squares   F-statistic:                     5952.\n",
      "Date:                Thu, 29 Nov 2018   Prob (F-statistic):               0.00\n",
      "Time:                        11:30:18   Log-Likelihood:            -2.0988e+05\n",
      "No. Observations:               16512   AIC:                         4.198e+05\n",
      "Df Residuals:                   16508   BIC:                         4.198e+05\n",
      "Df Model:                           3                                         \n",
      "Covariance Type:            nonrobust                                         \n",
      "==============================================================================\n",
      "                 coef    std err          t      P>|t|      [0.025      0.975]\n",
      "------------------------------------------------------------------------------\n",
      "const       2.072e+05    624.065    332.097      0.000    2.06e+05    2.08e+05\n",
      "x1          2.479e+04    671.302     36.935      0.000    2.35e+04    2.61e+04\n",
      "x2          8363.2163    680.233     12.295      0.000    7029.886    9696.546\n",
      "x3          8.136e+04    637.369    127.649      0.000    8.01e+04    8.26e+04\n",
      "==============================================================================\n",
      "Omnibus:                     3322.066   Durbin-Watson:                   1.992\n",
      "Prob(Omnibus):                  0.000   Jarque-Bera (JB):             7924.069\n",
      "Skew:                           1.128   Prob(JB):                         0.00\n",
      "Kurtosis:                       5.535   Cond. No.                         1.54\n",
      "==============================================================================\n",
      "\n",
      "Warnings:\n",
      "[1] Standard Errors assume that the covariance matrix of the errors is correctly specified.\n"
     ]
    }
   ],
   "source": [
    "import statsmodels.api as sm\n",
    "X2 = sm.add_constant(X_train_std)\n",
    "est = sm.OLS(Y_train,X2)\n",
    "est2 = est.fit()\n",
    "print(est2.summary())\n"
   ]
  },
  {
   "cell_type": "code",
   "execution_count": 33,
   "metadata": {},
   "outputs": [
    {
     "name": "stdout",
     "output_type": "stream",
     "text": [
      "                            OLS Regression Results                            \n",
      "==============================================================================\n",
      "Dep. Variable:     median_house_value   R-squared:                       0.489\n",
      "Model:                            OLS   Adj. R-squared:                  0.489\n",
      "Method:                 Least Squares   F-statistic:                     1318.\n",
      "Date:                Thu, 29 Nov 2018   Prob (F-statistic):               0.00\n",
      "Time:                        11:30:18   Log-Likelihood:                -52543.\n",
      "No. Observations:                4128   AIC:                         1.051e+05\n",
      "Df Residuals:                    4124   BIC:                         1.051e+05\n",
      "Df Model:                           3                                         \n",
      "Covariance Type:            nonrobust                                         \n",
      "==============================================================================\n",
      "                 coef    std err          t      P>|t|      [0.025      0.975]\n",
      "------------------------------------------------------------------------------\n",
      "const       2.053e+05   1270.533    161.570      0.000    2.03e+05    2.08e+05\n",
      "x1          2.506e+04   1355.720     18.482      0.000    2.24e+04    2.77e+04\n",
      "x2          8933.4664   1371.170      6.515      0.000    6245.233    1.16e+04\n",
      "x3           7.79e+04   1299.593     59.941      0.000    7.54e+04    8.04e+04\n",
      "==============================================================================\n",
      "Omnibus:                      894.661   Durbin-Watson:                   1.980\n",
      "Prob(Omnibus):                  0.000   Jarque-Bera (JB):             2145.511\n",
      "Skew:                           1.198   Prob(JB):                         0.00\n",
      "Kurtosis:                       5.594   Cond. No.                         1.50\n",
      "==============================================================================\n",
      "\n",
      "Warnings:\n",
      "[1] Standard Errors assume that the covariance matrix of the errors is correctly specified.\n"
     ]
    }
   ],
   "source": [
    "import statsmodels.api as sm # getting summary of the model on the Test set \n",
    "X2 = sm.add_constant(X_test_std)\n",
    "est = sm.OLS(Y_test,X2)\n",
    "est2 = est.fit()\n",
    "print(est2.summary())"
   ]
  },
  {
   "cell_type": "markdown",
   "metadata": {},
   "source": [
    "# Interpreting Model Coefficients\n",
    "How do we interpret the coefficient ( β1 )?\n",
    "\n",
    "A \"unit\" increase in husing_median_age is associated with a $25,060 increase in median_house_value.\n",
    "An increase in a number of rooms is associated with an increases in median_house_value by $8934.00"
   ]
  },
  {
   "cell_type": "code",
   "execution_count": 34,
   "metadata": {},
   "outputs": [],
   "source": [
    "#Defined y_predict\n",
    "Y_prediction = model.predict(X_test_std)"
   ]
  },
  {
   "cell_type": "code",
   "execution_count": 35,
   "metadata": {},
   "outputs": [
    {
     "data": {
      "text/plain": [
       "array([205139.97736843, 297711.32959349, 231685.59912568, ...,\n",
       "       140627.25614824, 286277.37130278, 226907.44607977])"
      ]
     },
     "execution_count": 35,
     "metadata": {},
     "output_type": "execute_result"
    }
   ],
   "source": [
    "Y_prediction"
   ]
  },
  {
   "cell_type": "code",
   "execution_count": 36,
   "metadata": {},
   "outputs": [
    {
     "data": {
      "text/plain": [
       "207249.8958938954"
      ]
     },
     "execution_count": 36,
     "metadata": {},
     "output_type": "execute_result"
    }
   ],
   "source": [
    "Y_prediction.mean()"
   ]
  },
  {
   "cell_type": "code",
   "execution_count": 37,
   "metadata": {},
   "outputs": [
    {
     "data": {
      "text/plain": [
       "0.5196284575917456"
      ]
     },
     "execution_count": 37,
     "metadata": {},
     "output_type": "execute_result"
    }
   ],
   "source": [
    "#Checking the score for train data\n",
    "model.score(X_train_std,Y_train)"
   ]
  },
  {
   "cell_type": "code",
   "execution_count": 38,
   "metadata": {},
   "outputs": [
    {
     "data": {
      "text/plain": [
       "0.48826521027801706"
      ]
     },
     "execution_count": 38,
     "metadata": {},
     "output_type": "execute_result"
    }
   ],
   "source": [
    "#Checking the score for test data\n",
    "model.score(X_test_std,Y_test)"
   ]
  },
  {
   "cell_type": "code",
   "execution_count": 39,
   "metadata": {},
   "outputs": [
    {
     "name": "stdout",
     "output_type": "stream",
     "text": [
      "81687.15246248955\n"
     ]
    }
   ],
   "source": [
    "#Predicting the model\n",
    "from sklearn.metrics import mean_squared_error\n",
    "print(np.sqrt(mean_squared_error(Y_test,Y_prediction)))"
   ]
  },
  {
   "cell_type": "markdown",
   "metadata": {},
   "source": [
    "# 7. Perform Decision Tree regression"
   ]
  },
  {
   "cell_type": "code",
   "execution_count": 40,
   "metadata": {},
   "outputs": [],
   "source": [
    "X_DT = HData[['housing_median_age','total_rooms','median_income']]\n",
    "Y = Housdata['median_house_value']\n"
   ]
  },
  {
   "cell_type": "code",
   "execution_count": 41,
   "metadata": {},
   "outputs": [
    {
     "name": "stderr",
     "output_type": "stream",
     "text": [
      "C:\\Users\\Indu Shahi\\Anaconda3\\lib\\site-packages\\sklearn\\cross_validation.py:41: DeprecationWarning: This module was deprecated in version 0.18 in favor of the model_selection module into which all the refactored classes and functions are moved. Also note that the interface of the new CV iterators are different from that of this module. This module will be removed in 0.20.\n",
      "  \"This module will be removed in 0.20.\", DeprecationWarning)\n"
     ]
    }
   ],
   "source": [
    "from sklearn.cross_validation import train_test_split\n",
    "X_train2,X_test2,Y_train2,Y_test2 = train_test_split(X_DT,Y, test_size=.2,random_state=0)"
   ]
  },
  {
   "cell_type": "code",
   "execution_count": 42,
   "metadata": {},
   "outputs": [
    {
     "data": {
      "text/html": [
       "<div>\n",
       "<style scoped>\n",
       "    .dataframe tbody tr th:only-of-type {\n",
       "        vertical-align: middle;\n",
       "    }\n",
       "\n",
       "    .dataframe tbody tr th {\n",
       "        vertical-align: top;\n",
       "    }\n",
       "\n",
       "    .dataframe thead th {\n",
       "        text-align: right;\n",
       "    }\n",
       "</style>\n",
       "<table border=\"1\" class=\"dataframe\">\n",
       "  <thead>\n",
       "    <tr style=\"text-align: right;\">\n",
       "      <th></th>\n",
       "      <th>housing_median_age</th>\n",
       "      <th>total_rooms</th>\n",
       "      <th>median_income</th>\n",
       "    </tr>\n",
       "  </thead>\n",
       "  <tbody>\n",
       "    <tr>\n",
       "      <th>12069</th>\n",
       "      <td>6</td>\n",
       "      <td>502</td>\n",
       "      <td>4.2386</td>\n",
       "    </tr>\n",
       "    <tr>\n",
       "      <th>15925</th>\n",
       "      <td>52</td>\n",
       "      <td>2381</td>\n",
       "      <td>4.3898</td>\n",
       "    </tr>\n",
       "    <tr>\n",
       "      <th>11162</th>\n",
       "      <td>26</td>\n",
       "      <td>1718</td>\n",
       "      <td>3.9333</td>\n",
       "    </tr>\n",
       "    <tr>\n",
       "      <th>4904</th>\n",
       "      <td>38</td>\n",
       "      <td>697</td>\n",
       "      <td>1.4653</td>\n",
       "    </tr>\n",
       "    <tr>\n",
       "      <th>4683</th>\n",
       "      <td>52</td>\n",
       "      <td>2373</td>\n",
       "      <td>3.1765</td>\n",
       "    </tr>\n",
       "  </tbody>\n",
       "</table>\n",
       "</div>"
      ],
      "text/plain": [
       "       housing_median_age  total_rooms  median_income\n",
       "12069                   6          502         4.2386\n",
       "15925                  52         2381         4.3898\n",
       "11162                  26         1718         3.9333\n",
       "4904                   38          697         1.4653\n",
       "4683                   52         2373         3.1765"
      ]
     },
     "execution_count": 42,
     "metadata": {},
     "output_type": "execute_result"
    }
   ],
   "source": [
    "X_train2.head()"
   ]
  },
  {
   "cell_type": "markdown",
   "metadata": {},
   "source": [
    "Since we are doing DT regression we need to clean data and scaling too, for this we need to remove NaN, get dummies and scaling for both test and train\n"
   ]
  },
  {
   "cell_type": "code",
   "execution_count": 43,
   "metadata": {},
   "outputs": [],
   "source": [
    "from sklearn.preprocessing import StandardScaler\n",
    "ss = StandardScaler()\n",
    "X_train_std2 = ss.fit_transform(X_train2)\n",
    "X_test_std2 = ss.fit_transform(X_test2)"
   ]
  },
  {
   "cell_type": "code",
   "execution_count": 44,
   "metadata": {},
   "outputs": [
    {
     "data": {
      "text/plain": [
       "DecisionTreeRegressor(criterion='mse', max_depth=None, max_features=None,\n",
       "           max_leaf_nodes=None, min_impurity_decrease=0.0,\n",
       "           min_impurity_split=None, min_samples_leaf=1,\n",
       "           min_samples_split=2, min_weight_fraction_leaf=0.0,\n",
       "           presort=False, random_state=0, splitter='best')"
      ]
     },
     "execution_count": 44,
     "metadata": {},
     "output_type": "execute_result"
    }
   ],
   "source": [
    "#Creating model for DecisionTreeRegressor\n",
    "from sklearn.tree import DecisionTreeRegressor\n",
    "model2= DecisionTreeRegressor(random_state = 0)\n",
    "model2.fit(X_train_std2,Y_train2)"
   ]
  },
  {
   "cell_type": "code",
   "execution_count": 45,
   "metadata": {},
   "outputs": [
    {
     "name": "stdout",
     "output_type": "stream",
     "text": [
      "                            OLS Regression Results                            \n",
      "==============================================================================\n",
      "Dep. Variable:     median_house_value   R-squared:                       0.520\n",
      "Model:                            OLS   Adj. R-squared:                  0.520\n",
      "Method:                 Least Squares   F-statistic:                     5952.\n",
      "Date:                Thu, 29 Nov 2018   Prob (F-statistic):               0.00\n",
      "Time:                        11:30:24   Log-Likelihood:            -2.0988e+05\n",
      "No. Observations:               16512   AIC:                         4.198e+05\n",
      "Df Residuals:                   16508   BIC:                         4.198e+05\n",
      "Df Model:                           3                                         \n",
      "Covariance Type:            nonrobust                                         \n",
      "==============================================================================\n",
      "                 coef    std err          t      P>|t|      [0.025      0.975]\n",
      "------------------------------------------------------------------------------\n",
      "const       2.072e+05    624.065    332.097      0.000    2.06e+05    2.08e+05\n",
      "x1          2.479e+04    671.302     36.935      0.000    2.35e+04    2.61e+04\n",
      "x2          8363.2163    680.233     12.295      0.000    7029.886    9696.546\n",
      "x3          8.136e+04    637.369    127.649      0.000    8.01e+04    8.26e+04\n",
      "==============================================================================\n",
      "Omnibus:                     3322.066   Durbin-Watson:                   1.992\n",
      "Prob(Omnibus):                  0.000   Jarque-Bera (JB):             7924.069\n",
      "Skew:                           1.128   Prob(JB):                         0.00\n",
      "Kurtosis:                       5.535   Cond. No.                         1.54\n",
      "==============================================================================\n",
      "\n",
      "Warnings:\n",
      "[1] Standard Errors assume that the covariance matrix of the errors is correctly specified.\n"
     ]
    }
   ],
   "source": [
    "import statsmodels.api as sm\n",
    "X3 = sm.add_constant(X_train_std2)\n",
    "est = sm.OLS(Y_train2,X3)\n",
    "est3 = est.fit()\n",
    "print(est3.summary())"
   ]
  },
  {
   "cell_type": "code",
   "execution_count": 46,
   "metadata": {},
   "outputs": [
    {
     "name": "stdout",
     "output_type": "stream",
     "text": [
      "                            OLS Regression Results                            \n",
      "==============================================================================\n",
      "Dep. Variable:     median_house_value   R-squared:                       0.489\n",
      "Model:                            OLS   Adj. R-squared:                  0.489\n",
      "Method:                 Least Squares   F-statistic:                     1318.\n",
      "Date:                Thu, 29 Nov 2018   Prob (F-statistic):               0.00\n",
      "Time:                        11:30:25   Log-Likelihood:                -52543.\n",
      "No. Observations:                4128   AIC:                         1.051e+05\n",
      "Df Residuals:                    4124   BIC:                         1.051e+05\n",
      "Df Model:                           3                                         \n",
      "Covariance Type:            nonrobust                                         \n",
      "==============================================================================\n",
      "                 coef    std err          t      P>|t|      [0.025      0.975]\n",
      "------------------------------------------------------------------------------\n",
      "const       2.053e+05   1270.533    161.570      0.000    2.03e+05    2.08e+05\n",
      "x1          2.506e+04   1355.720     18.482      0.000    2.24e+04    2.77e+04\n",
      "x2          8933.4664   1371.170      6.515      0.000    6245.233    1.16e+04\n",
      "x3           7.79e+04   1299.593     59.941      0.000    7.54e+04    8.04e+04\n",
      "==============================================================================\n",
      "Omnibus:                      894.661   Durbin-Watson:                   1.980\n",
      "Prob(Omnibus):                  0.000   Jarque-Bera (JB):             2145.511\n",
      "Skew:                           1.198   Prob(JB):                         0.00\n",
      "Kurtosis:                       5.594   Cond. No.                         1.50\n",
      "==============================================================================\n",
      "\n",
      "Warnings:\n",
      "[1] Standard Errors assume that the covariance matrix of the errors is correctly specified.\n"
     ]
    }
   ],
   "source": [
    "import statsmodels.api as sm # Getting summary on test set o rmodel on the test set\n",
    "X3 = sm.add_constant(X_test_std2)\n",
    "est = sm.OLS(Y_test2,X3)\n",
    "est3 = est.fit()\n",
    "print(est3.summary())"
   ]
  },
  {
   "cell_type": "code",
   "execution_count": 47,
   "metadata": {},
   "outputs": [
    {
     "data": {
      "text/plain": [
       "1.0"
      ]
     },
     "execution_count": 47,
     "metadata": {},
     "output_type": "execute_result"
    }
   ],
   "source": [
    "model2.score(X_train_std2,Y_train2)"
   ]
  },
  {
   "cell_type": "code",
   "execution_count": 48,
   "metadata": {},
   "outputs": [
    {
     "data": {
      "text/plain": [
       "0.10437515502945538"
      ]
     },
     "execution_count": 48,
     "metadata": {},
     "output_type": "execute_result"
    }
   ],
   "source": [
    "model2.score(X_test_std2,Y_test2)"
   ]
  },
  {
   "cell_type": "code",
   "execution_count": 49,
   "metadata": {},
   "outputs": [],
   "source": [
    "Y_pred2 = model2.predict(X_test_std2)"
   ]
  },
  {
   "cell_type": "code",
   "execution_count": 50,
   "metadata": {},
   "outputs": [
    {
     "data": {
      "text/plain": [
       "208610.48934108528"
      ]
     },
     "execution_count": 50,
     "metadata": {},
     "output_type": "execute_result"
    }
   ],
   "source": [
    "Y_pred2.mean()"
   ]
  },
  {
   "cell_type": "code",
   "execution_count": 51,
   "metadata": {},
   "outputs": [
    {
     "name": "stdout",
     "output_type": "stream",
     "text": [
      "108067.31269140793\n"
     ]
    }
   ],
   "source": [
    "from sklearn.metrics import mean_squared_error\n",
    "print(np.sqrt(mean_squared_error(Y_test2,Y_pred2)))"
   ]
  },
  {
   "cell_type": "code",
   "execution_count": null,
   "metadata": {},
   "outputs": [],
   "source": []
  },
  {
   "cell_type": "markdown",
   "metadata": {},
   "source": [
    "# 8.Perform Random Forest regression "
   ]
  },
  {
   "cell_type": "markdown",
   "metadata": {},
   "source": [
    "Since we are doing RF regression we need to clean data and scaling too, for this we need to remove NaN, get dummies and scaling for both test and train"
   ]
  },
  {
   "cell_type": "code",
   "execution_count": 52,
   "metadata": {},
   "outputs": [],
   "source": [
    "X_RF = HData[['housing_median_age','total_rooms','median_income']]\n",
    "Y = Housdata['median_house_value']"
   ]
  },
  {
   "cell_type": "code",
   "execution_count": 53,
   "metadata": {},
   "outputs": [
    {
     "data": {
      "text/html": [
       "<div>\n",
       "<style scoped>\n",
       "    .dataframe tbody tr th:only-of-type {\n",
       "        vertical-align: middle;\n",
       "    }\n",
       "\n",
       "    .dataframe tbody tr th {\n",
       "        vertical-align: top;\n",
       "    }\n",
       "\n",
       "    .dataframe thead th {\n",
       "        text-align: right;\n",
       "    }\n",
       "</style>\n",
       "<table border=\"1\" class=\"dataframe\">\n",
       "  <thead>\n",
       "    <tr style=\"text-align: right;\">\n",
       "      <th></th>\n",
       "      <th>housing_median_age</th>\n",
       "      <th>total_rooms</th>\n",
       "      <th>median_income</th>\n",
       "    </tr>\n",
       "  </thead>\n",
       "  <tbody>\n",
       "    <tr>\n",
       "      <th>0</th>\n",
       "      <td>41</td>\n",
       "      <td>880</td>\n",
       "      <td>8.3252</td>\n",
       "    </tr>\n",
       "    <tr>\n",
       "      <th>1</th>\n",
       "      <td>21</td>\n",
       "      <td>7099</td>\n",
       "      <td>8.3014</td>\n",
       "    </tr>\n",
       "  </tbody>\n",
       "</table>\n",
       "</div>"
      ],
      "text/plain": [
       "   housing_median_age  total_rooms  median_income\n",
       "0                  41          880         8.3252\n",
       "1                  21         7099         8.3014"
      ]
     },
     "execution_count": 53,
     "metadata": {},
     "output_type": "execute_result"
    }
   ],
   "source": [
    "X_RF.head(2)"
   ]
  },
  {
   "cell_type": "code",
   "execution_count": 54,
   "metadata": {},
   "outputs": [],
   "source": [
    "from sklearn.cross_validation import train_test_split\n",
    "X_train3,X_test3,Y_train3,Y_test3 = train_test_split(X_RF,\n",
    "                                                 Y,\n",
    "                                                 test_size=.2, random_state=0)"
   ]
  },
  {
   "cell_type": "code",
   "execution_count": 55,
   "metadata": {},
   "outputs": [
    {
     "data": {
      "text/html": [
       "<div>\n",
       "<style scoped>\n",
       "    .dataframe tbody tr th:only-of-type {\n",
       "        vertical-align: middle;\n",
       "    }\n",
       "\n",
       "    .dataframe tbody tr th {\n",
       "        vertical-align: top;\n",
       "    }\n",
       "\n",
       "    .dataframe thead th {\n",
       "        text-align: right;\n",
       "    }\n",
       "</style>\n",
       "<table border=\"1\" class=\"dataframe\">\n",
       "  <thead>\n",
       "    <tr style=\"text-align: right;\">\n",
       "      <th></th>\n",
       "      <th>housing_median_age</th>\n",
       "      <th>total_rooms</th>\n",
       "      <th>median_income</th>\n",
       "    </tr>\n",
       "  </thead>\n",
       "  <tbody>\n",
       "    <tr>\n",
       "      <th>12069</th>\n",
       "      <td>6</td>\n",
       "      <td>502</td>\n",
       "      <td>4.2386</td>\n",
       "    </tr>\n",
       "    <tr>\n",
       "      <th>15925</th>\n",
       "      <td>52</td>\n",
       "      <td>2381</td>\n",
       "      <td>4.3898</td>\n",
       "    </tr>\n",
       "    <tr>\n",
       "      <th>11162</th>\n",
       "      <td>26</td>\n",
       "      <td>1718</td>\n",
       "      <td>3.9333</td>\n",
       "    </tr>\n",
       "    <tr>\n",
       "      <th>4904</th>\n",
       "      <td>38</td>\n",
       "      <td>697</td>\n",
       "      <td>1.4653</td>\n",
       "    </tr>\n",
       "    <tr>\n",
       "      <th>4683</th>\n",
       "      <td>52</td>\n",
       "      <td>2373</td>\n",
       "      <td>3.1765</td>\n",
       "    </tr>\n",
       "  </tbody>\n",
       "</table>\n",
       "</div>"
      ],
      "text/plain": [
       "       housing_median_age  total_rooms  median_income\n",
       "12069                   6          502         4.2386\n",
       "15925                  52         2381         4.3898\n",
       "11162                  26         1718         3.9333\n",
       "4904                   38          697         1.4653\n",
       "4683                   52         2373         3.1765"
      ]
     },
     "execution_count": 55,
     "metadata": {},
     "output_type": "execute_result"
    }
   ],
   "source": [
    "X_test3.head()\n",
    "X_train3.head()"
   ]
  },
  {
   "cell_type": "code",
   "execution_count": 56,
   "metadata": {},
   "outputs": [],
   "source": [
    "from sklearn.preprocessing import StandardScaler\n",
    "ss = StandardScaler()\n",
    "X_train_std3 = ss.fit_transform(X_train3)\n",
    "X_test_std3 = ss.fit_transform(X_test3)"
   ]
  },
  {
   "cell_type": "code",
   "execution_count": 57,
   "metadata": {},
   "outputs": [
    {
     "data": {
      "text/plain": [
       "RandomForestRegressor(bootstrap=True, criterion='mse', max_depth=None,\n",
       "           max_features='auto', max_leaf_nodes=None,\n",
       "           min_impurity_decrease=0.0, min_impurity_split=None,\n",
       "           min_samples_leaf=1, min_samples_split=2,\n",
       "           min_weight_fraction_leaf=0.0, n_estimators=10, n_jobs=1,\n",
       "           oob_score=False, random_state=None, verbose=0, warm_start=False)"
      ]
     },
     "execution_count": 57,
     "metadata": {},
     "output_type": "execute_result"
    }
   ],
   "source": [
    "from sklearn.ensemble import RandomForestRegressor\n",
    "model3 = RandomForestRegressor()\n",
    "model3.fit(X_train_std3,Y_train3)"
   ]
  },
  {
   "cell_type": "code",
   "execution_count": 58,
   "metadata": {},
   "outputs": [
    {
     "data": {
      "text/plain": [
       "0.9100590879400887"
      ]
     },
     "execution_count": 58,
     "metadata": {},
     "output_type": "execute_result"
    }
   ],
   "source": [
    "model3.score(X_train_std3,Y_train3)"
   ]
  },
  {
   "cell_type": "code",
   "execution_count": 59,
   "metadata": {},
   "outputs": [
    {
     "data": {
      "text/plain": [
       "0.45780803368299033"
      ]
     },
     "execution_count": 59,
     "metadata": {},
     "output_type": "execute_result"
    }
   ],
   "source": [
    "model3.score(X_test_std3,Y_test3)"
   ]
  },
  {
   "cell_type": "code",
   "execution_count": 60,
   "metadata": {},
   "outputs": [],
   "source": [
    "Y_pred3 = model3.predict(X_test_std3)"
   ]
  },
  {
   "cell_type": "code",
   "execution_count": 61,
   "metadata": {},
   "outputs": [
    {
     "data": {
      "text/plain": [
       "array([203130. , 329750. , 238760. , ..., 163240. , 423190.5, 240890.1])"
      ]
     },
     "execution_count": 61,
     "metadata": {},
     "output_type": "execute_result"
    }
   ],
   "source": [
    "Y_pred3"
   ]
  },
  {
   "cell_type": "code",
   "execution_count": 62,
   "metadata": {},
   "outputs": [
    {
     "data": {
      "text/plain": [
       "210372.49903100776"
      ]
     },
     "execution_count": 62,
     "metadata": {},
     "output_type": "execute_result"
    }
   ],
   "source": [
    "Y_pred3.mean()"
   ]
  },
  {
   "cell_type": "code",
   "execution_count": 63,
   "metadata": {},
   "outputs": [
    {
     "name": "stdout",
     "output_type": "stream",
     "text": [
      "84082.92766517786\n"
     ]
    }
   ],
   "source": [
    "from sklearn.metrics import mean_squared_error\n",
    "print(np.sqrt(mean_squared_error(Y_test3,Y_pred3)))"
   ]
  },
  {
   "cell_type": "code",
   "execution_count": 64,
   "metadata": {},
   "outputs": [
    {
     "name": "stdout",
     "output_type": "stream",
     "text": [
      "                            OLS Regression Results                            \n",
      "==============================================================================\n",
      "Dep. Variable:     median_house_value   R-squared:                       0.520\n",
      "Model:                            OLS   Adj. R-squared:                  0.520\n",
      "Method:                 Least Squares   F-statistic:                     5952.\n",
      "Date:                Thu, 29 Nov 2018   Prob (F-statistic):               0.00\n",
      "Time:                        11:30:38   Log-Likelihood:            -2.0988e+05\n",
      "No. Observations:               16512   AIC:                         4.198e+05\n",
      "Df Residuals:                   16508   BIC:                         4.198e+05\n",
      "Df Model:                           3                                         \n",
      "Covariance Type:            nonrobust                                         \n",
      "==============================================================================\n",
      "                 coef    std err          t      P>|t|      [0.025      0.975]\n",
      "------------------------------------------------------------------------------\n",
      "const       2.072e+05    624.065    332.097      0.000    2.06e+05    2.08e+05\n",
      "x1          2.479e+04    671.302     36.935      0.000    2.35e+04    2.61e+04\n",
      "x2          8363.2163    680.233     12.295      0.000    7029.886    9696.546\n",
      "x3          8.136e+04    637.369    127.649      0.000    8.01e+04    8.26e+04\n",
      "==============================================================================\n",
      "Omnibus:                     3322.066   Durbin-Watson:                   1.992\n",
      "Prob(Omnibus):                  0.000   Jarque-Bera (JB):             7924.069\n",
      "Skew:                           1.128   Prob(JB):                         0.00\n",
      "Kurtosis:                       5.535   Cond. No.                         1.54\n",
      "==============================================================================\n",
      "\n",
      "Warnings:\n",
      "[1] Standard Errors assume that the covariance matrix of the errors is correctly specified.\n"
     ]
    }
   ],
   "source": [
    "import statsmodels.api as sm\n",
    "X4 = sm.add_constant(X_train_std3)\n",
    "est = sm.OLS(Y_train3,X4)\n",
    "est4 = est.fit()\n",
    "print(est4.summary())"
   ]
  },
  {
   "cell_type": "code",
   "execution_count": 65,
   "metadata": {},
   "outputs": [
    {
     "name": "stdout",
     "output_type": "stream",
     "text": [
      "                            OLS Regression Results                            \n",
      "==============================================================================\n",
      "Dep. Variable:     median_house_value   R-squared:                       0.489\n",
      "Model:                            OLS   Adj. R-squared:                  0.489\n",
      "Method:                 Least Squares   F-statistic:                     1318.\n",
      "Date:                Thu, 29 Nov 2018   Prob (F-statistic):               0.00\n",
      "Time:                        11:30:38   Log-Likelihood:                -52543.\n",
      "No. Observations:                4128   AIC:                         1.051e+05\n",
      "Df Residuals:                    4124   BIC:                         1.051e+05\n",
      "Df Model:                           3                                         \n",
      "Covariance Type:            nonrobust                                         \n",
      "==============================================================================\n",
      "                 coef    std err          t      P>|t|      [0.025      0.975]\n",
      "------------------------------------------------------------------------------\n",
      "const       2.053e+05   1270.533    161.570      0.000    2.03e+05    2.08e+05\n",
      "x1          2.506e+04   1355.720     18.482      0.000    2.24e+04    2.77e+04\n",
      "x2          8933.4664   1371.170      6.515      0.000    6245.233    1.16e+04\n",
      "x3           7.79e+04   1299.593     59.941      0.000    7.54e+04    8.04e+04\n",
      "==============================================================================\n",
      "Omnibus:                      894.661   Durbin-Watson:                   1.980\n",
      "Prob(Omnibus):                  0.000   Jarque-Bera (JB):             2145.511\n",
      "Skew:                           1.198   Prob(JB):                         0.00\n",
      "Kurtosis:                       5.594   Cond. No.                         1.50\n",
      "==============================================================================\n",
      "\n",
      "Warnings:\n",
      "[1] Standard Errors assume that the covariance matrix of the errors is correctly specified.\n"
     ]
    }
   ],
   "source": [
    "import statsmodels.api as sm\n",
    "X4 = sm.add_constant(X_test_std3)\n",
    "est = sm.OLS(Y_test3,X4)\n",
    "est4 = est.fit()\n",
    "print(est4.summary())"
   ]
  },
  {
   "cell_type": "code",
   "execution_count": null,
   "metadata": {},
   "outputs": [],
   "source": [
    "Combined table of all the above algorithms.\n",
    "\n",
    " \tName of Algorithms\t \n",
    " \tOLS regression 12 features including 4 dummies \tDT Regression on 12 features \tRF Regression on 12 features\tRegression on single var\n",
    "R-squared \t0.647\t0.647\t0.647\t0.48\n",
    "Adj R-Squared \t0.647\t0.647\t0.647\t0.48\n",
    "F -stsisctics \t2522\t2522\t5952\t1.5^04\n",
    "Prob(F)\t0\t0\t0\t \n",
    "AIC\t4.147e^05\t4.147e^05\t4.147e^05\t4.2^05\n",
    "BIC\t4.148e^05\t4.148e^05\t4.148e^05\t4.2^06\n",
    "Y_pred.mean()\t207k\t208k\t207k\t206k\n",
    "RMSE\t69k\t78\t60k\t85k\n",
    "R2 on test set\t0.637\t0.639\t0.639\t \n"
   ]
  },
  {
   "cell_type": "markdown",
   "metadata": {},
   "source": [
    "# Conclusion and Recomendation "
   ]
  },
  {
   "attachments": {},
   "cell_type": "raw",
   "metadata": {},
   "source": [
    "# From the table above it is found that R squared is same for all the model except in the single regressor. On these model AIC and BIC are also same. However root mean square error is found low in Random Forest Regression, despite the predicted house price less by $1000. \n",
    "\n",
    "From the model comparison above we conclude that Random Forest Regression is better model for the data and used independent variable used. For this algorithm the predicted median price is $207K with root mean square error of $60k which is higher in single regressor and predicted median house value is found as $206K.\n"
   ]
  },
  {
   "cell_type": "markdown",
   "metadata": {},
   "source": [
    "# 9.  Bonus exercise: Perform Linear Regression with one independent variable "
   ]
  },
  {
   "cell_type": "code",
   "execution_count": 66,
   "metadata": {},
   "outputs": [],
   "source": [
    "#Perform Regression with one Independent Variable\n",
    "#We select Median income since it has higher correlation\n",
    "X_SLR = HData.median_income.values\n",
    "X_SLR = X_SLR.reshape(-1,1)"
   ]
  },
  {
   "cell_type": "code",
   "execution_count": 67,
   "metadata": {},
   "outputs": [],
   "source": [
    "from sklearn.cross_validation import train_test_split\n",
    "X_train4,X_test4,Y_train4,Y_test4 = train_test_split(X_SLR,\n",
    "                                                 Y,\n",
    "                                                 test_size=.2, random_state=0)"
   ]
  },
  {
   "cell_type": "code",
   "execution_count": 68,
   "metadata": {},
   "outputs": [
    {
     "data": {
      "text/plain": [
       "LinearRegression(copy_X=True, fit_intercept=True, n_jobs=1, normalize=False)"
      ]
     },
     "execution_count": 68,
     "metadata": {},
     "output_type": "execute_result"
    }
   ],
   "source": [
    "from sklearn.linear_model import LinearRegression # fitting model on the training set \n",
    "model_SLR = LinearRegression()\n",
    "model_SLR.fit(X_train4,Y_train4)"
   ]
  },
  {
   "cell_type": "code",
   "execution_count": 69,
   "metadata": {},
   "outputs": [
    {
     "data": {
      "text/plain": [
       "0.479914127199415"
      ]
     },
     "execution_count": 69,
     "metadata": {},
     "output_type": "execute_result"
    }
   ],
   "source": [
    "model_SLR.score(X_train4,Y_train4)# R-squared value on the train set"
   ]
  },
  {
   "cell_type": "code",
   "execution_count": 70,
   "metadata": {},
   "outputs": [
    {
     "data": {
      "text/plain": [
       "0.4466846804895944"
      ]
     },
     "execution_count": 70,
     "metadata": {},
     "output_type": "execute_result"
    }
   ],
   "source": [
    "model_SLR.score(X_test4,Y_test4)# R-squared value on the test set"
   ]
  },
  {
   "cell_type": "code",
   "execution_count": 71,
   "metadata": {},
   "outputs": [],
   "source": [
    "Y_pred4 = model_SLR.predict(X_test4)"
   ]
  },
  {
   "cell_type": "code",
   "execution_count": 72,
   "metadata": {},
   "outputs": [
    {
     "data": {
      "text/plain": [
       "206067.24960430694"
      ]
     },
     "execution_count": 72,
     "metadata": {},
     "output_type": "execute_result"
    }
   ],
   "source": [
    "Y_pred4.mean()"
   ]
  },
  {
   "cell_type": "code",
   "execution_count": 73,
   "metadata": {},
   "outputs": [
    {
     "name": "stdout",
     "output_type": "stream",
     "text": [
      "84941.05152406936\n"
     ]
    }
   ],
   "source": [
    "from sklearn.metrics import mean_squared_error\n",
    "print(np.sqrt(mean_squared_error(Y_test4,Y_pred4)))"
   ]
  },
  {
   "cell_type": "markdown",
   "metadata": {},
   "source": [
    "# Plotting the Least Squares Line\n",
    "Let's make predictions for the smallest and largest observed values of x, and then use the predicted values to plot the least squares line:\n"
   ]
  },
  {
   "cell_type": "code",
   "execution_count": 74,
   "metadata": {},
   "outputs": [
    {
     "data": {
      "text/plain": [
       "[<matplotlib.lines.Line2D at 0x20e8ef829b0>]"
      ]
     },
     "execution_count": 74,
     "metadata": {},
     "output_type": "execute_result"
    },
    {
     "data": {
      "image/png": "[encoded data removed]",
      "text/plain": [
       "<Figure size 432x288 with 1 Axes>"
      ]
     },
     "metadata": {},
     "output_type": "display_data"
    }
   ],
   "source": [
    "#Ploting on Training Set\n",
    "plt.scatter(X_train4,Y_train4,color='b')\n",
    "plt.plot(X_train4,model_SLR.predict(X_train4), color='r')"
   ]
  },
  {
   "cell_type": "code",
   "execution_count": 75,
   "metadata": {},
   "outputs": [
    {
     "data": {
      "text/plain": [
       "[<matplotlib.lines.Line2D at 0x20e937897b8>]"
      ]
     },
     "execution_count": 75,
     "metadata": {},
     "output_type": "execute_result"
    },
    {
     "data": {
      "image/png": "[encoded data removed]",
      "text/plain": [
       "<Figure size 432x288 with 1 Axes>"
      ]
     },
     "metadata": {},
     "output_type": "display_data"
    }
   ],
   "source": [
    "#Ploting on Testing Set\n",
    "plt.scatter(X_test4,Y_test4,color='b')\n",
    "plt.plot(X_test4,model_SLR.predict(X_test4), color='r')"
   ]
  },
  {
   "cell_type": "code",
   "execution_count": 76,
   "metadata": {},
   "outputs": [
    {
     "name": "stdout",
     "output_type": "stream",
     "text": [
      "                            OLS Regression Results                            \n",
      "==============================================================================\n",
      "Dep. Variable:     median_house_value   R-squared:                       0.480\n",
      "Model:                            OLS   Adj. R-squared:                  0.480\n",
      "Method:                 Least Squares   F-statistic:                 1.523e+04\n",
      "Date:                Thu, 29 Nov 2018   Prob (F-statistic):               0.00\n",
      "Time:                        11:30:49   Log-Likelihood:            -2.1054e+05\n",
      "No. Observations:               16512   AIC:                         4.211e+05\n",
      "Df Residuals:                   16510   BIC:                         4.211e+05\n",
      "Df Model:                           1                                         \n",
      "Covariance Type:            nonrobust                                         \n",
      "==============================================================================\n",
      "                 coef    std err          t      P>|t|      [0.025      0.975]\n",
      "------------------------------------------------------------------------------\n",
      "const       4.432e+04   1471.076     30.128      0.000    4.14e+04    4.72e+04\n",
      "x1          4.203e+04    340.537    123.429      0.000    4.14e+04    4.27e+04\n",
      "==============================================================================\n",
      "Omnibus:                     3365.372   Durbin-Watson:                   1.994\n",
      "Prob(Omnibus):                  0.000   Jarque-Bera (JB):             7363.886\n",
      "Skew:                           1.179   Prob(JB):                         0.00\n",
      "Kurtosis:                       5.267   Cond. No.                         10.2\n",
      "==============================================================================\n",
      "\n",
      "Warnings:\n",
      "[1] Standard Errors assume that the covariance matrix of the errors is correctly specified.\n"
     ]
    }
   ],
   "source": [
    "import statsmodels.api as sm # Getting summary on the training set  Since th emodel is built on single features there is no difference between the R**2 and Adj R**2\n",
    "X2 = sm.add_constant(X_train4)\n",
    "est = sm.OLS(Y_train4,X2)\n",
    "est2 = est.fit()\n",
    "print(est2.summary())"
   ]
  },
  {
   "cell_type": "code",
   "execution_count": 77,
   "metadata": {},
   "outputs": [
    {
     "name": "stdout",
     "output_type": "stream",
     "text": [
      "                            OLS Regression Results                            \n",
      "==============================================================================\n",
      "Dep. Variable:     median_house_value   R-squared:                       0.447\n",
      "Model:                            OLS   Adj. R-squared:                  0.447\n",
      "Method:                 Least Squares   F-statistic:                     3337.\n",
      "Date:                Thu, 29 Nov 2018   Prob (F-statistic):               0.00\n",
      "Time:                        11:30:50   Log-Likelihood:                -52707.\n",
      "No. Observations:                4128   AIC:                         1.054e+05\n",
      "Df Residuals:                    4126   BIC:                         1.054e+05\n",
      "Df Model:                           1                                         \n",
      "Covariance Type:            nonrobust                                         \n",
      "==============================================================================\n",
      "                 coef    std err          t      P>|t|      [0.025      0.975]\n",
      "------------------------------------------------------------------------------\n",
      "const       4.828e+04   3022.244     15.974      0.000    4.24e+04    5.42e+04\n",
      "x1           4.08e+04    706.274     57.767      0.000    3.94e+04    4.22e+04\n",
      "==============================================================================\n",
      "Omnibus:                      885.809   Durbin-Watson:                   1.975\n",
      "Prob(Omnibus):                  0.000   Jarque-Bera (JB):             1909.552\n",
      "Skew:                           1.236   Prob(JB):                         0.00\n",
      "Kurtosis:                       5.234   Cond. No.                         10.2\n",
      "==============================================================================\n",
      "\n",
      "Warnings:\n",
      "[1] Standard Errors assume that the covariance matrix of the errors is correctly specified.\n"
     ]
    }
   ],
   "source": [
    "import statsmodels.api as sm # Getting summary on the test set  Since the model is built on single features there is no difference between the R**2 and Adj R**2\n",
    "X2 = sm.add_constant(X_test4)# Also score is less than that of training set. It is because model is under fit on the training set and hence it is less the test set  i.e \n",
    "est = sm.OLS(Y_test4,X2)\n",
    "est2 = est.fit()\n",
    "print(est2.summary())"
   ]
  },
  {
   "cell_type": "markdown",
   "metadata": {},
   "source": [
    "# Plotting the Least Squares Line with different way \n",
    "Let's make predictions for the smallest and largest observed values of x, and then use the predicted values to plot the least squares line:\n"
   ]
  },
  {
   "cell_type": "code",
   "execution_count": 86,
   "metadata": {},
   "outputs": [
    {
     "data": {
      "text/html": [
       "<div>\n",
       "<style scoped>\n",
       "    .dataframe tbody tr th:only-of-type {\n",
       "        vertical-align: middle;\n",
       "    }\n",
       "\n",
       "    .dataframe tbody tr th {\n",
       "        vertical-align: top;\n",
       "    }\n",
       "\n",
       "    .dataframe thead th {\n",
       "        text-align: right;\n",
       "    }\n",
       "</style>\n",
       "<table border=\"1\" class=\"dataframe\">\n",
       "  <thead>\n",
       "    <tr style=\"text-align: right;\">\n",
       "      <th></th>\n",
       "      <th>median_income</th>\n",
       "    </tr>\n",
       "  </thead>\n",
       "  <tbody>\n",
       "    <tr>\n",
       "      <th>0</th>\n",
       "      <td>0.4999</td>\n",
       "    </tr>\n",
       "    <tr>\n",
       "      <th>1</th>\n",
       "      <td>15.0001</td>\n",
       "    </tr>\n",
       "  </tbody>\n",
       "</table>\n",
       "</div>"
      ],
      "text/plain": [
       "   median_income\n",
       "0         0.4999\n",
       "1        15.0001"
      ]
     },
     "execution_count": 86,
     "metadata": {},
     "output_type": "execute_result"
    }
   ],
   "source": [
    "# create a DataFrame with the minimum and maximum values of TV\n",
    "X_new = pd.DataFrame({'median_income': [Housdata.median_income.min(), Housdata.median_income.max()]})\n",
    "X_new.head()"
   ]
  },
  {
   "cell_type": "code",
   "execution_count": 90,
   "metadata": {},
   "outputs": [
    {
     "data": {
      "text/plain": [
       "array([ 65332.52085936, 674807.50392953])"
      ]
     },
     "execution_count": 90,
     "metadata": {},
     "output_type": "execute_result"
    }
   ],
   "source": [
    "# make predictions for those x values and store them\n",
    "preds = model_SLR.predict(X_new)\n",
    "preds"
   ]
  },
  {
   "cell_type": "code",
   "execution_count": 89,
   "metadata": {},
   "outputs": [
    {
     "data": {
      "text/plain": [
       "[<matplotlib.lines.Line2D at 0x20e93ae9128>]"
      ]
     },
     "execution_count": 89,
     "metadata": {},
     "output_type": "execute_result"
    },
    {
     "data": {
      "image/png": "[encoded data removed]",
      "text/plain": [
       "<Figure size 432x288 with 1 Axes>"
      ]
     },
     "metadata": {},
     "output_type": "display_data"
    }
   ],
   "source": [
    "# first, plot the observed data\n",
    "Housdata.plot(kind='scatter', x='median_income', y='median_house_value')\n",
    "\n",
    "# then, plot the least squares line\n",
    "plt.plot(X_new, preds, c='red', linewidth=2)"
   ]
  }
 ],
 "metadata": {
  "kernelspec": {
   "display_name": "Python 3",
   "language": "python",
   "name": "python3"
  },
  "language_info": {
   "codemirror_mode": {
    "name": "ipython",
    "version": 3
   },
   "file_extension": ".py",
   "mimetype": "text/x-python",
   "name": "python",
   "nbconvert_exporter": "python",
   "pygments_lexer": "ipython3",
   "version": "3.6.5"
  }
 },
 "nbformat": 4,
 "nbformat_minor": 2
}
